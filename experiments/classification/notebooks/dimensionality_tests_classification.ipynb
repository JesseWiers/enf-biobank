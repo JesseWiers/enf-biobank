{
 "cells": [
  {
   "cell_type": "code",
   "execution_count": 2,
   "metadata": {},
   "outputs": [],
   "source": [
    "import ml_collections\n",
    "from ml_collections import config_flags\n",
    "from absl import app\n",
    "\n",
    "import sys\n",
    "sys.path.append('/home/jwiers/deeprisk/new_codebase/enf-biobank')\n",
    "\n",
    "\n",
    "import jax\n",
    "import jax.numpy as jnp\n",
    "import optax\n",
    "import logging\n",
    "\n",
    "import matplotlib.pyplot as plt\n",
    "\n",
    "import wandb\n",
    "\n",
    "# Custom imports\n",
    "from experiments.datasets import get_dataloaders\n",
    "from enf.model import EquivariantNeuralField\n",
    "from enf.bi_invariants import TranslationBI\n",
    "from enf.utils import create_coordinate_grid, initialize_latents\n",
    "\n",
    "from experiments.downstream_models.transformer_enf import TransformerClassifier"
   ]
  },
  {
   "cell_type": "code",
   "execution_count": 10,
   "metadata": {},
   "outputs": [
    {
     "name": "stdout",
     "output_type": "stream",
     "text": [
      "pose_vector shape:  (1, 3840, 4)\n",
      "context_vector shape:  (1, 3840, 32)\n",
      "gaussian_vector shape:  (1, 3840, 1)\n",
      "sample dimensionality = 122880\n"
     ]
    }
   ],
   "source": [
    "transformer = TransformerClassifier(\n",
    "        hidden_size=768,\n",
    "        depth=12,\n",
    "        num_heads=12,\n",
    "        mlp_ratio=4,\n",
    "        num_classes=10,\n",
    "    )\n",
    "\n",
    "key = jax.random.PRNGKey(0)\n",
    "\n",
    "key, subkey = jax.random.split(key)\n",
    "\n",
    "batch_size = 1\n",
    "n_latents_slice = 128\n",
    "h_dim = 32\n",
    "t=6\n",
    "z=5\n",
    "dims = 4\n",
    "\n",
    "\n",
    "n_latents = n_latents_slice * t * z \n",
    "\n",
    "\n",
    "\n",
    "pose_vector = jax.random.normal(subkey, (batch_size, n_latents, dims))\n",
    "context_vector = jax.random.normal(subkey, (batch_size, n_latents, h_dim))\n",
    "gaussian_vector = jax.random.normal(subkey, (batch_size, n_latents, 1))\n",
    "\n",
    "print(\"pose_vector shape: \", pose_vector.shape)\n",
    "print(\"context_vector shape: \", context_vector.shape)\n",
    "print(\"gaussian_vector shape: \", gaussian_vector.shape)\n",
    "\n",
    "print(f\"sample dimensionality = {n_latents * h_dim}\")\n",
    "\n",
    "z = (pose_vector, context_vector, gaussian_vector)\n",
    "\n",
    "params = transformer.init(key, *z)\n",
    "\n"
   ]
  },
  {
   "cell_type": "code",
   "execution_count": 11,
   "metadata": {},
   "outputs": [],
   "source": [
    "# Test forward and backward\n",
    "\n",
    "logits = transformer.apply(params, *z)\n",
    "\n",
    "def test_loss(params):\n",
    "    return 0.01\n",
    "\n",
    "# Get gradients\n",
    "loss, grads = jax.value_and_grad(test_loss)(transformer_params)"
   ]
  }
 ],
 "metadata": {
  "kernelspec": {
   "display_name": "deeprisk_env_2024_3",
   "language": "python",
   "name": "python3"
  },
  "language_info": {
   "codemirror_mode": {
    "name": "ipython",
    "version": 3
   },
   "file_extension": ".py",
   "mimetype": "text/x-python",
   "name": "python",
   "nbconvert_exporter": "python",
   "pygments_lexer": "ipython3",
   "version": "3.11.11"
  }
 },
 "nbformat": 4,
 "nbformat_minor": 2
}
