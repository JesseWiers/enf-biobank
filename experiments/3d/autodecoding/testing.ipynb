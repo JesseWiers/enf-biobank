{
 "cells": [
  {
   "cell_type": "code",
   "execution_count": 3,
   "metadata": {},
   "outputs": [],
   "source": [
    "import sys\n",
    "sys.path.insert(0, \"/home/jwiers/deeprisk/new_codebase/enf-biobank/\")\n",
    "\n",
    "import ml_collections\n",
    "from ml_collections import config_flags\n",
    "from absl import app\n",
    "\n",
    "import jax\n",
    "import jax.numpy as jnp\n",
    "import optax\n",
    "import logging\n",
    "from tqdm import tqdm\n",
    "import matplotlib.pyplot as plt\n",
    "import itertools\n",
    "import wandb\n",
    "import time\n",
    "import os\n",
    "import pickle\n",
    "# Custom imports\n",
    "from experiments.datasets import get_dataloaders\n",
    "from enf.model import EquivariantNeuralField\n",
    "from enf.bi_invariants import TranslationBI\n",
    "from enf.utils import create_coordinate_grid, initialize_latents\n",
    "\n",
    "from experiments.downstream_models.transformer_enf import TransformerClassifier\n",
    "\n",
    "jax.config.update(\"jax_default_matmul_precision\", \"highest\")"
   ]
  },
  {
   "cell_type": "code",
   "execution_count": 5,
   "metadata": {},
   "outputs": [],
   "source": [
    "# Define the reconstruction model\n",
    "recon_enf = EquivariantNeuralField(\n",
    "    num_hidden=128,\n",
    "    att_dim=64,\n",
    "    num_heads=3,\n",
    "    num_out=1,\n",
    "    emb_freq=(30.0, 60.0),\n",
    "    nearest_k=4,\n",
    "    bi_invariant=TranslationBI(),\n",
    "    gaussian_window=True,\n",
    ")"
   ]
  },
  {
   "cell_type": "code",
   "execution_count": 13,
   "metadata": {},
   "outputs": [],
   "source": [
    "Z = 2 \n",
    "T = 5 \n",
    "H = 60 \n",
    "W = 60\n",
    "\n",
    "x = create_coordinate_grid(\n",
    "        batch_size=4, \n",
    "        img_shape=(Z, T, H, W, 1),\n",
    "        num_in=4  # 3D coordinates\n",
    "    )"
   ]
  },
  {
   "cell_type": "code",
   "execution_count": 14,
   "metadata": {},
   "outputs": [
    {
     "name": "stdout",
     "output_type": "stream",
     "text": [
      "(4, 36000, 4)\n"
     ]
    }
   ],
   "source": [
    "print(x.shape)"
   ]
  },
  {
   "cell_type": "code",
   "execution_count": 18,
   "metadata": {},
   "outputs": [],
   "source": [
    "config = ml_collections.ConfigDict()\n",
    "config.seed = 68\n",
    "config.debug = False\n",
    "config.run_name = \"biobank_reconstruction_3d_lvef_autodecoding\"\n",
    "config.exp_name = \"test\"\n",
    "\n",
    "# Reconstruction model\n",
    "config.recon_enf = ml_collections.ConfigDict()\n",
    "config.recon_enf.num_hidden = 128\n",
    "config.recon_enf.num_heads = 3\n",
    "config.recon_enf.att_dim = 64\n",
    "config.recon_enf.num_in = 4  \n",
    "config.recon_enf.num_out = 1  \n",
    "config.recon_enf.freq_mult = (30.0, 60.0)\n",
    "config.recon_enf.k_nearest = 4\n",
    "config.recon_enf.latent_noise = True\n",
    "\n",
    "config.recon_enf.num_latents = 625 # 64 x z \n",
    "config.recon_enf.latent_dim = 32\n",
    "config.recon_enf.z_positions = 2\n",
    "config.recon_enf.even_sampling = True\n",
    "config.recon_enf.gaussian_window = True\n",
    "\n",
    "# Dataset config\n",
    "config.dataset = ml_collections.ConfigDict()\n",
    "config.dataset.num_workers = 0\n",
    "config.dataset.num_patients_train = 50 \n",
    "config.dataset.num_patients_test = 10\n",
    "config.dataset.z_indices = (0, 1)  # Which z-slices to use\n",
    "\n",
    "# Optimizer config\n",
    "config.optim = ml_collections.ConfigDict()\n",
    "config.optim.lr_enf = 5e-4 \n",
    "config.optim.inner_lr = (0., 60., 0.) # (pose, context, window), orginally (2., 30., 0.) # NOTE: Try 1e-3 \n",
    "\n",
    "\n",
    "# Training config\n",
    "config.train = ml_collections.ConfigDict()\n",
    "config.train.batch_size = 4\n",
    "config.train.noise_scale = 1e-1  # Noise added to latents to prevent overfitting\n",
    "config.train.num_epochs_train = 100\n",
    "config.train.log_interval = 50\n",
    "config.train.num_subsampled_points = None  # Will be set based on image shape"
   ]
  },
  {
   "cell_type": "code",
   "execution_count": 19,
   "metadata": {},
   "outputs": [],
   "source": [
    "key = jax.random.PRNGKey(55)\n",
    "\n",
    "# Create dummy latents for model init\n",
    "key, subkey = jax.random.split(key)\n",
    "temp_z = initialize_latents(\n",
    "    batch_size=1,  # Only need one example for initialization\n",
    "    num_latents=config.recon_enf.num_latents,\n",
    "    latent_dim=config.recon_enf.latent_dim,\n",
    "    data_dim=config.recon_enf.num_in,\n",
    "    bi_invariant_cls=TranslationBI,\n",
    "    key=subkey,\n",
    "    noise_scale=config.train.noise_scale,\n",
    "    even_sampling=config.recon_enf.even_sampling,\n",
    "    latent_noise=config.recon_enf.latent_noise,\n",
    "    z_positions=config.recon_enf.z_positions,\n",
    ")\n",
    "\n",
    "# Init the model\n",
    "recon_enf_params = recon_enf.init(key, x, *temp_z)\n",
    "\n",
    "# Define optimizer for the ENF backbone\n",
    "enf_opt = optax.adam(learning_rate=config.optim.lr_enf)\n",
    "recon_enf_opt_state = enf_opt.init(recon_enf_params)"
   ]
  },
  {
   "cell_type": "code",
   "execution_count": 22,
   "metadata": {},
   "outputs": [
    {
     "data": {
      "text/plain": [
       "(4, 2, 5, 60, 60, 1)"
      ]
     },
     "execution_count": 22,
     "metadata": {},
     "output_type": "execute_result"
    }
   ],
   "source": [
    "z = initialize_latents(\n",
    "    batch_size=4, \n",
    "    num_latents=config.recon_enf.num_latents,\n",
    "    latent_dim=config.recon_enf.latent_dim,\n",
    "    data_dim=config.recon_enf.num_in,\n",
    "    bi_invariant_cls=TranslationBI,\n",
    "    key=subkey,\n",
    "    noise_scale=config.train.noise_scale,\n",
    "    even_sampling=config.recon_enf.even_sampling,\n",
    "    latent_noise=config.recon_enf.latent_noise,\n",
    "    z_positions=config.recon_enf.z_positions,\n",
    ")\n",
    "\n",
    "img_r = recon_enf.apply(recon_enf_params, x, *z).reshape((4, Z, T, H, W, 1))\n",
    "img_r.shape"
   ]
  }
 ],
 "metadata": {
  "kernelspec": {
   "display_name": "deeprisk_env_2024_3",
   "language": "python",
   "name": "python3"
  },
  "language_info": {
   "codemirror_mode": {
    "name": "ipython",
    "version": 3
   },
   "file_extension": ".py",
   "mimetype": "text/x-python",
   "name": "python",
   "nbconvert_exporter": "python",
   "pygments_lexer": "ipython3",
   "version": "3.11.11"
  }
 },
 "nbformat": 4,
 "nbformat_minor": 2
}
