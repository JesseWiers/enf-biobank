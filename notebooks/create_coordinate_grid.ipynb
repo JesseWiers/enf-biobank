{
 "cells": [
  {
   "cell_type": "code",
   "execution_count": 2,
   "metadata": {},
   "outputs": [],
   "source": [
    "import jax\n",
    "import jax.numpy as jnp\n",
    "import optax\n",
    "import math\n",
    "from typing import Tuple, Any, Type, Dict\n",
    "\n",
    "def create_coordinate_grid(img_shape: Tuple[int, ...], batch_size: int, num_in: int=2) -> jnp.ndarray:\n",
    "    \"\"\"Create a coordinate grid for the input space.\"\"\"\n",
    "    \n",
    "    if num_in == 2:\n",
    "        x = jnp.stack(jnp.meshgrid(\n",
    "            jnp.linspace(-1, 1, img_shape[0]),\n",
    "            jnp.linspace(-1, 1, img_shape[1])), axis=-1)\n",
    "        x = jnp.reshape(x, (1, -1, 2)).repeat(batch_size, axis=0)\n",
    "    elif num_in == 3:\n",
    "        x = jnp.stack(jnp.meshgrid(\n",
    "            jnp.linspace(-1, 1, img_shape[0]),\n",
    "            jnp.linspace(-1, 1, img_shape[1]),\n",
    "            jnp.linspace(-1, 1, img_shape[2]),\n",
    "            indexing='ij'), axis=-1)\n",
    "        x = jnp.reshape(x, (1, -1, 3)).repeat(batch_size, axis=0)\n",
    "          \n",
    "    return x"
   ]
  },
  {
   "cell_type": "code",
   "execution_count": 3,
   "metadata": {},
   "outputs": [],
   "source": [
    "batch_size = 1\n",
    "img_shape = (4, 4, 2)\n",
    "num_in = 3\n",
    "\n",
    "x = create_coordinate_grid(img_shape, batch_size, num_in)"
   ]
  },
  {
   "cell_type": "code",
   "execution_count": 4,
   "metadata": {},
   "outputs": [
    {
     "name": "stdout",
     "output_type": "stream",
     "text": [
      "[[[-1.         -1.         -1.        ]\n",
      "  [-1.         -1.          1.        ]\n",
      "  [-1.         -0.33333328 -1.        ]\n",
      "  [-1.         -0.33333328  1.        ]\n",
      "  [-1.          0.33333337 -1.        ]\n",
      "  [-1.          0.33333337  1.        ]\n",
      "  [-1.          1.         -1.        ]\n",
      "  [-1.          1.          1.        ]\n",
      "  [-0.33333328 -1.         -1.        ]\n",
      "  [-0.33333328 -1.          1.        ]\n",
      "  [-0.33333328 -0.33333328 -1.        ]\n",
      "  [-0.33333328 -0.33333328  1.        ]\n",
      "  [-0.33333328  0.33333337 -1.        ]\n",
      "  [-0.33333328  0.33333337  1.        ]\n",
      "  [-0.33333328  1.         -1.        ]\n",
      "  [-0.33333328  1.          1.        ]\n",
      "  [ 0.33333337 -1.         -1.        ]\n",
      "  [ 0.33333337 -1.          1.        ]\n",
      "  [ 0.33333337 -0.33333328 -1.        ]\n",
      "  [ 0.33333337 -0.33333328  1.        ]\n",
      "  [ 0.33333337  0.33333337 -1.        ]\n",
      "  [ 0.33333337  0.33333337  1.        ]\n",
      "  [ 0.33333337  1.         -1.        ]\n",
      "  [ 0.33333337  1.          1.        ]\n",
      "  [ 1.         -1.         -1.        ]\n",
      "  [ 1.         -1.          1.        ]\n",
      "  [ 1.         -0.33333328 -1.        ]\n",
      "  [ 1.         -0.33333328  1.        ]\n",
      "  [ 1.          0.33333337 -1.        ]\n",
      "  [ 1.          0.33333337  1.        ]\n",
      "  [ 1.          1.         -1.        ]\n",
      "  [ 1.          1.          1.        ]]]\n"
     ]
    }
   ],
   "source": [
    "print(x)"
   ]
  }
 ],
 "metadata": {
  "kernelspec": {
   "display_name": "deeprisk_env_2024_3",
   "language": "python",
   "name": "python3"
  },
  "language_info": {
   "codemirror_mode": {
    "name": "ipython",
    "version": 3
   },
   "file_extension": ".py",
   "mimetype": "text/x-python",
   "name": "python",
   "nbconvert_exporter": "python",
   "pygments_lexer": "ipython3",
   "version": "3.11.11"
  }
 },
 "nbformat": 4,
 "nbformat_minor": 2
}
